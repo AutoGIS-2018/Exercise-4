{
 "cells": [
  {
   "cell_type": "markdown",
   "metadata": {
    "deletable": false,
    "editable": false,
    "nbgrader": {
     "checksum": "252e1ab717cd8b5f1ee1137a59af7e3e",
     "grade": false,
     "grade_id": "cell-dc7532d3649929fe",
     "locked": true,
     "schema_version": 1,
     "solution": false
    }
   },
   "source": [
    "# Exercise 4\n",
    "\n",
    "This week we will practice how to do **data classification and aggregation in Geopandas**. We continue from the last week's exerise with rather similar idea. In this exercise we use data from the [Helsinki Region Travel Time Matrix](https://blogs.helsinki.fi/accessibility/helsinki-region-travel-time-matrix/) as input.\n",
    "\n",
    "**The overall aim this week is to define *dominance areas* \\[0\\] for 8 shopping centers in Helsinki with different travel modes (Public tranport, private car). The last step is to find out how many people live within the dominance areas of those big shopping centers in Helsinki Region.**\n",
    "\n",
    "\n",
    "*The exercise might be a rather demanding one, so don't panic, the assistants will help you and we will go through the exercise in the following week.*\n",
    "\n",
    "\\[0\\]: Here, we define the dominance area of a service as the geographical area from where the given service (shopping center) is the closest one to reach in terms of travel time.\n",
    "\n",
    "- **Exercise 4 is due by Wed 28.11 before the next practical session**.\n",
    "\n",
    "- Don't forget to check out the [hints for this week's exercise](https://automating-gis-processes.github.io/2018/lessons/L4/exercise-4.html) if you're having trouble.\n",
    "\n",
    "- Scores on this exercise are out of **20 points**.\n",
    "\n",
    "## Problem 1: Join accessibility datasets into a grid and visualize them by using a classifier (10 points)\n",
    "\n",
    "**Data:**\n",
    "\n",
    " - A dataset in [data/](data/) directory contains 7 text files having data about accessibility in Helsinki Region, and a Shapefile that contains a Polygon grid that can be used to visualize and analyze the data spatially. The datasets are:\n",
    " \n",
    "     - `travel_times_to_[XXXXXXX]_[NAME-OF-THE-CENTER].txt` including travel times and road network distances to specific shopping center\n",
    "     - `MetropAccess_YKR_grid_EurefFIN.shp` including the Polygon grid with YKR_ID column that can be used to join the grid with the    accessibility data\n",
    "     \n",
    "**Steps:**"
   ]
  },
  {
   "cell_type": "markdown",
   "metadata": {
    "deletable": false,
    "editable": false,
    "nbgrader": {
     "checksum": "d7cb2303b374461784e6204b99169e85",
     "grade": false,
     "grade_id": "cell-fc5d70b88edd7ad6",
     "locked": true,
     "schema_version": 1,
     "solution": false
    }
   },
   "source": [
    "1: Read the travel_time data files (one by one) for Itis and Myyrmanni with Pandas (separator is `\";\"`) \n",
    "\n",
    "   - You should create a variable called **`itis`** and store the data for Itis into it\n",
    "   - You should create a variable called **`myyrmanni`** and store the data for Myyrmanni into it\n",
    "\n",
    "2: Select only following columns from the files:\n",
    "    \n",
    "   - pt_r_t\n",
    "   - car_r_t\n",
    "   - from_id\n",
    "   - to_id\n",
    "   \n",
    "3: Read the Polygon grid `MetropAccess_YKR_grid_EurefFIN.shp` into a GeoDataFrame called `grid` using geopandas"
   ]
  },
  {
   "cell_type": "code",
   "execution_count": null,
   "metadata": {
    "collapsed": false,
    "deletable": false,
    "editable": true,
    "nbgrader": {
     "checksum": "151de7bc9173c1a268bd1a031699dab0",
     "grade": false,
     "grade_id": "read_data",
     "locked": false,
     "schema_version": 1,
     "solution": true
    }
   },
   "outputs": [],
   "source": [
    "# REPLACE THE ERROR BELOW WITH YOUR OWN CODE\n",
    "raise NotImplementedError()"
   ]
  },
  {
   "cell_type": "code",
   "execution_count": null,
   "metadata": {
    "collapsed": false,
    "deletable": false,
    "editable": false,
    "nbgrader": {
     "checksum": "292a616c03c07a871e79fa0724b151cf",
     "grade": true,
     "grade_id": "read_data_test",
     "locked": true,
     "points": 1,
     "schema_version": 1,
     "solution": false
    }
   },
   "outputs": [],
   "source": [
    "# Check the data (please use the provided variable names!)\n",
    "print(\"MYYRMANNI:\")\n",
    "print(myyrmanni.head())\n",
    "\n",
    "print(\"\\nITIS:\")\n",
    "print(itis.head())\n",
    "\n",
    "print(\"\\nYKR GRID:\")\n",
    "print(grid.head())\n"
   ]
  },
  {
   "cell_type": "markdown",
   "metadata": {
    "deletable": false,
    "editable": false,
    "nbgrader": {
     "checksum": "ab65355482045801ed538add59da506d",
     "grade": false,
     "grade_id": "cell-7466fe21ede7360b",
     "locked": true,
     "schema_version": 1,
     "solution": false
    }
   },
   "source": [
    "3: Make a table join using `merge()` -function between `grid` and `itis` \n",
    "  \n",
    "  - **`YKR_ID`** -column in `grid` corresponds to the **`from_id`** in `itis`\n",
    "  - store the result into a variable called `itis_geo` \n",
    "  \n",
    "4: Make a similar table join using `merge()` -function between `grid` and `myyrmanni` \n",
    "\n",
    "  - **`YKR_ID`** -column in `grid` corresponds to the **`from_id`** in `myyrmanni`\n",
    "  - and store the result into a variable called `myyrmanni_geo`"
   ]
  },
  {
   "cell_type": "code",
   "execution_count": null,
   "metadata": {
    "collapsed": false,
    "deletable": false,
    "editable": true,
    "nbgrader": {
     "checksum": "f7a3330d7c1b94c80fd77771e9ba1def",
     "grade": false,
     "grade_id": "table_join",
     "locked": false,
     "schema_version": 1,
     "solution": true
    }
   },
   "outputs": [],
   "source": [
    "# REPLACE THE ERROR BELOW WITH YOUR OWN CODE\n",
    "raise NotImplementedError()"
   ]
  },
  {
   "cell_type": "code",
   "execution_count": null,
   "metadata": {
    "collapsed": false,
    "deletable": false,
    "editable": false,
    "nbgrader": {
     "checksum": "ba39eeae315130da3197467b8c652d11",
     "grade": true,
     "grade_id": "table_join_test",
     "locked": true,
     "points": 1,
     "schema_version": 1,
     "solution": false
    }
   },
   "outputs": [],
   "source": [
    "# Check the merge output:\n",
    "print(\"MYYRMANNI:\")\n",
    "print(myyrmanni_geo.head())\n",
    "\n",
    "print(\"\\nITIS:\")\n",
    "print(itis_geo.head())\n",
    "\n"
   ]
  },
  {
   "cell_type": "markdown",
   "metadata": {
    "deletable": false,
    "editable": false,
    "nbgrader": {
     "checksum": "85b43cc54006af46f80bdb1a08d408cc",
     "grade": false,
     "grade_id": "cell-c9758c259e0c8abd",
     "locked": true,
     "schema_version": 1,
     "solution": false
    }
   },
   "source": [
    "5: Replace all `-1` values in the data with `999`. This can be done by excecuting `.replace(to_replace={-1: 999})` -function with both of the GeoDataFrames."
   ]
  },
  {
   "cell_type": "code",
   "execution_count": null,
   "metadata": {
    "collapsed": true,
    "deletable": false,
    "editable": true,
    "nbgrader": {
     "checksum": "77edb0755e62f533924e50affba9f862",
     "grade": false,
     "grade_id": "replace_values",
     "locked": false,
     "schema_version": 1,
     "solution": true
    }
   },
   "outputs": [],
   "source": [
    "# REPLACE THE ERROR BELOW WITH YOUR OWN CODE\n",
    "raise NotImplementedError()"
   ]
  },
  {
   "cell_type": "code",
   "execution_count": null,
   "metadata": {
    "collapsed": false,
    "deletable": false,
    "editable": false,
    "nbgrader": {
     "checksum": "e0e2450a1e4f33e8eacc6d0b15aa4fa5",
     "grade": true,
     "grade_id": "replace_values_test",
     "locked": true,
     "points": 1,
     "schema_version": 1,
     "solution": false
    }
   },
   "outputs": [],
   "source": []
  },
  {
   "cell_type": "markdown",
   "metadata": {
    "deletable": false,
    "editable": false,
    "nbgrader": {
     "checksum": "e0369b9490a72adc053e7e47efc8bc0c",
     "grade": false,
     "grade_id": "cell-a1ae2db99f7de17b",
     "locked": true,
     "schema_version": 1,
     "solution": false
    }
   },
   "source": [
    "6: Classify the travel times using the `pysal` library. Classify the values in columns `pt_r_t` and `car_r_t` into 13 classes for both of the shopping centers (`itis_geo` & `myyrmanni_geo`) having 5 minutes intervals. The class breaks should be:\n",
    "\n",
    "  - 5, 10, 15, 20, 25, 30, 35, 40, 45, 50, 55, 60 \n",
    "    - *Notice that these 12 class breaks will produce 13 classes (as 1 class break divides the data into two)*\n",
    "  - The classification results should be stored in columns `pt_r_t_cl` and `car_r_t_cl` in both GeoDataFrames (`itis_geo` & `myyrmanni_geo`)\n",
    "     \n",
    "\n"
   ]
  },
  {
   "cell_type": "code",
   "execution_count": null,
   "metadata": {
    "collapsed": false,
    "deletable": false,
    "editable": true,
    "nbgrader": {
     "checksum": "202eca52c16a72ab3b8d6521ce364b20",
     "grade": false,
     "grade_id": "classify_values",
     "locked": false,
     "schema_version": 1,
     "solution": true
    }
   },
   "outputs": [],
   "source": [
    "# REPLACE THE ERROR BELOW WITH YOUR OWN CODE\n",
    "raise NotImplementedError()"
   ]
  },
  {
   "cell_type": "code",
   "execution_count": null,
   "metadata": {
    "collapsed": true,
    "deletable": false,
    "editable": false,
    "nbgrader": {
     "checksum": "0ff99f92c677afefb51b7be9ed333e07",
     "grade": true,
     "grade_id": "classify_values_test",
     "locked": true,
     "points": 3,
     "schema_version": 1,
     "solution": false
    }
   },
   "outputs": [],
   "source": [
    "#Check the output\n"
   ]
  },
  {
   "cell_type": "markdown",
   "metadata": {
    "deletable": false,
    "editable": false,
    "nbgrader": {
     "checksum": "6a6e56ea00f0f67bef0d5d3249a16146",
     "grade": false,
     "grade_id": "cell-c315e202c9377559",
     "locked": true,
     "schema_version": 1,
     "solution": false
    }
   },
   "source": [
    "7: Create a 2x2 plot where the classified travel times for Itis and Myyrmanni are visualized. The final result should look something like following:\n",
    "\n",
    "![](P1_sample.png)\n",
    "\n",
    " - You should create subplots using matplotlib having 2 rows and 2 columns (use parameters `nrows` & `ncols`), and the figure size should be 10 inches by 10 inches (use parameter `figsize`)\n",
    " - Add titles for all of the subplots as seen in the example\n",
    " - Remove the empty whitespace around the plots using function `plt.tight_layout()`\n",
    " - Save the figure into disk with filename `Shopping_centers_accessibility_comparisons.png`\n"
   ]
  },
  {
   "cell_type": "code",
   "execution_count": null,
   "metadata": {
    "collapsed": false,
    "deletable": false,
    "editable": true,
    "nbgrader": {
     "checksum": "b01fed7d1f4bd6b2fb7f3fcf0c649636",
     "grade": true,
     "grade_id": "cell-2bc0e8d779adb5b9",
     "locked": false,
     "points": 4,
     "schema_version": 1,
     "solution": true
    }
   },
   "outputs": [],
   "source": [
    "# REPLACE THE ERROR BELOW WITH YOUR OWN CODE\n",
    "raise NotImplementedError()"
   ]
  },
  {
   "cell_type": "markdown",
   "metadata": {
    "deletable": true,
    "editable": true
   },
   "source": [
    "### Done!\n",
    "\n",
    "That's it, once you have plotted the data and saved the output you are ready to continue with [Problem 2](Exercise-4-problem-2)."
   ]
  }
 ],
 "metadata": {
  "anaconda-cloud": {},
  "kernelspec": {
   "display_name": "Python [default]",
   "language": "python",
   "name": "python3"
  },
  "language_info": {
   "codemirror_mode": {
    "name": "ipython",
    "version": 3
   },
   "file_extension": ".py",
   "mimetype": "text/x-python",
   "name": "python",
   "nbconvert_exporter": "python",
   "pygments_lexer": "ipython3",
   "version": "3.5.2"
  }
 },
 "nbformat": 4,
 "nbformat_minor": 2
}
